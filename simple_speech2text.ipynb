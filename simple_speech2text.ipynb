{
  "nbformat": 4,
  "nbformat_minor": 0,
  "metadata": {
    "colab": {
      "provenance": [],
      "authorship_tag": "ABX9TyNkCLGIoOkPCbc8iiSf33wT",
      "include_colab_link": true
    },
    "kernelspec": {
      "name": "python3",
      "display_name": "Python 3"
    },
    "language_info": {
      "name": "python"
    }
  },
  "cells": [
    {
      "cell_type": "markdown",
      "metadata": {
        "id": "view-in-github",
        "colab_type": "text"
      },
      "source": [
        "<a href=\"https://colab.research.google.com/github/sayanarajasekhar/GenerativeAiApplications/blob/main/simple_speech2text.ipynb\" target=\"_parent\"><img src=\"https://colab.research.google.com/assets/colab-badge.svg\" alt=\"Open In Colab\"/></a>"
      ]
    },
    {
      "cell_type": "code",
      "source": [
        "import requests\n",
        "\n",
        "# URL of the audio file to be downloaded\n",
        "url = \"https://cf-courses-data.s3.us.cloud-object-storage.appdomain.cloud/IBMSkillsNetwork-GPXX04C6EN/Testing%20speech%20to%20text.mp3\"\n",
        "\n",
        "# Send a GET request to the URL to download the file\n",
        "response = requests.get(url)\n",
        "\n",
        "# Define the local file path where the audio file will be saved\n",
        "audio_file_path = \"downloaded_audio.mp3\"\n",
        "\n",
        "# Check if the request was successful (status code 200)\n",
        "if response.status_code == 200:\n",
        "    # If successful, write the content to the specified local file path\n",
        "    with open(audio_file_path, \"wb\") as file:\n",
        "        file.write(response.content)\n",
        "    print(\"File downloaded successfully\")\n",
        "else:\n",
        "    # If the request failed, print an error message\n",
        "    print(\"Failed to download the file\")"
      ],
      "metadata": {
        "id": "lnpdre8xGCfh"
      },
      "execution_count": null,
      "outputs": []
    },
    {
      "cell_type": "code",
      "execution_count": null,
      "metadata": {
        "id": "XaAuJZT0FyVV"
      },
      "outputs": [],
      "source": [
        "import torch\n",
        "from transformers import pipeline\n",
        "\n",
        "# Initialize the speech-to-text pipeline from Hugging Face Transformers\n",
        "# This uses the \"openai/whisper-tiny.en\" model for automatic speech recognition (ASR)\n",
        "# The `chunk_length_s` parameter specifies the chunk length in seconds for processing\n",
        "pipe = pipeline(\n",
        "  \"automatic-speech-recognition\",\n",
        "  model=\"openai/whisper-tiny.en\",\n",
        "  chunk_length_s=30,\n",
        ")\n",
        "\n",
        "# Define the path to the audio file that needs to be transcribed\n",
        "sample = 'downloaded_audio.mp3'\n",
        "\n",
        "# Perform speech recognition on the audio file\n",
        "# The `batch_size=8` parameter indicates how many chunks are processed at a time\n",
        "# The result is stored in `prediction` with the key \"text\" containing the transcribed text\n",
        "prediction = pipe(sample, batch_size=8)[\"text\"]\n",
        "\n",
        "# Print the transcribed text to the console\n",
        "print(prediction)"
      ]
    },
    {
      "cell_type": "code",
      "source": [],
      "metadata": {
        "id": "rHern5EPGIO1"
      },
      "execution_count": null,
      "outputs": []
    }
  ]
}