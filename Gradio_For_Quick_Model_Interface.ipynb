{
  "nbformat": 4,
  "nbformat_minor": 0,
  "metadata": {
    "colab": {
      "provenance": [],
      "authorship_tag": "ABX9TyPQ+0dsM97psAmTRjI1wRha",
      "include_colab_link": true
    },
    "kernelspec": {
      "name": "python3",
      "display_name": "Python 3"
    },
    "language_info": {
      "name": "python"
    }
  },
  "cells": [
    {
      "cell_type": "markdown",
      "metadata": {
        "id": "view-in-github",
        "colab_type": "text"
      },
      "source": [
        "<a href=\"https://colab.research.google.com/github/sayanarajasekhar/GenerativeAiApplications/blob/main/Gradio_For_Quick_Model_Interface.ipynb\" target=\"_parent\"><img src=\"https://colab.research.google.com/assets/colab-badge.svg\" alt=\"Open In Colab\"/></a>"
      ]
    },
    {
      "cell_type": "markdown",
      "source": [
        "## 1. Creating a demo gradio interface"
      ],
      "metadata": {
        "id": "LO4nAdt2Md06"
      }
    },
    {
      "cell_type": "code",
      "execution_count": 6,
      "metadata": {
        "colab": {
          "base_uri": "https://localhost:8080/",
          "height": 600
        },
        "id": "6ngdfGZAJ29b",
        "outputId": "8fd5920a-659e-44d2-b10e-4b536309e9e2"
      },
      "outputs": [
        {
          "output_type": "stream",
          "name": "stdout",
          "text": [
            "Colab notebook detected. To show errors in colab notebook, set debug=True in launch()\n",
            "Note: opening Chrome Inspector may crash demo inside Colab notebooks.\n",
            "* To create a public link, set `share=True` in `launch()`.\n"
          ]
        },
        {
          "output_type": "display_data",
          "data": {
            "text/plain": [
              "<IPython.core.display.Javascript object>"
            ],
            "application/javascript": [
              "(async (port, path, width, height, cache, element) => {\n",
              "                        if (!google.colab.kernel.accessAllowed && !cache) {\n",
              "                            return;\n",
              "                        }\n",
              "                        element.appendChild(document.createTextNode(''));\n",
              "                        const url = await google.colab.kernel.proxyPort(port, {cache});\n",
              "\n",
              "                        const external_link = document.createElement('div');\n",
              "                        external_link.innerHTML = `\n",
              "                            <div style=\"font-family: monospace; margin-bottom: 0.5rem\">\n",
              "                                Running on <a href=${new URL(path, url).toString()} target=\"_blank\">\n",
              "                                    https://localhost:${port}${path}\n",
              "                                </a>\n",
              "                            </div>\n",
              "                        `;\n",
              "                        element.appendChild(external_link);\n",
              "\n",
              "                        const iframe = document.createElement('iframe');\n",
              "                        iframe.src = new URL(path, url).toString();\n",
              "                        iframe.height = height;\n",
              "                        iframe.allow = \"autoplay; camera; microphone; clipboard-read; clipboard-write;\"\n",
              "                        iframe.width = width;\n",
              "                        iframe.style.border = 0;\n",
              "                        element.appendChild(iframe);\n",
              "                    })(7863, \"/\", \"100%\", 500, false, window.element)"
            ]
          },
          "metadata": {}
        },
        {
          "output_type": "execute_result",
          "data": {
            "text/plain": []
          },
          "metadata": {},
          "execution_count": 6
        }
      ],
      "source": [
        "import gradio as gr\n",
        "\n",
        "def greet(name, intensity):\n",
        "  return \"Hello, \" + name + \"!\" * int(intensity)\n",
        "\n",
        "demo = gr.Interface(\n",
        "    fn = greet,\n",
        "    inputs = [\"text\", \"slider\"],\n",
        "    outputs = [\"text\"]\n",
        ")\n",
        "\n",
        "demo.launch(share = False)"
      ]
    },
    {
      "cell_type": "markdown",
      "source": [
        "## 2. Createing a simple interface for an image captioning model\n",
        "\n",
        "BLIP (Bootstrapped Language Image Pretraining) model is used to generate captions for images"
      ],
      "metadata": {
        "id": "Cy0Ge5bYMnSF"
      }
    },
    {
      "cell_type": "code",
      "source": [
        "from transformers import BlipProcessor, BlipForConditionalGeneration\n",
        "from PIL import Image\n",
        "\n",
        "processor = BlipProcessor.from_pretrained(\"Salesforce/blip-image-captioning-base\")\n",
        "model = BlipForConditionalGeneration.from_pretrained(\"Salesforce/blip-image-captioning-base\")\n",
        "\n",
        "def generate_caption(image):\n",
        "  '''\n",
        "    Using PIL image object as input parameter\n",
        "    return caption for the image generated by the model\n",
        "  '''\n",
        "  inputs = processor(images = image, return_tensors = \"pt\")\n",
        "  outputs = model.generate(**inputs)\n",
        "  caption = processor.decode(outputs[0], skip_special_tokens = True)\n",
        "\n",
        "def caption_image(image):\n",
        "  '''\n",
        "    Takes PIL image as input and returns a caption\n",
        "    with error handling\n",
        "  '''\n",
        "  try:\n",
        "    caption = generate_caption(image)\n",
        "    return caption\n",
        "  except Exception as e:\n",
        "    return f\"An error occurred: {str(e)}\"\n",
        "\n",
        "iface = gr.Interface(\n",
        "    fn = caption_image,\n",
        "    inputs = gr.Image(type= \"pil\"),\n",
        "    outputs = \"text\",\n",
        "    title = \"Image Captioning with BLIP\",\n",
        "    description = \"Upload an image to generate a caption.\"\n",
        ")\n",
        "\n",
        "iface.launch(share = False)\n",
        "\n"
      ],
      "metadata": {
        "id": "7smPKEh9KKB9"
      },
      "execution_count": null,
      "outputs": []
    }
  ]
}