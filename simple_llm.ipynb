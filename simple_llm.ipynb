{
  "nbformat": 4,
  "nbformat_minor": 0,
  "metadata": {
    "colab": {
      "provenance": [],
      "authorship_tag": "ABX9TyN61jYBzwhNbjlkCWmvivAE",
      "include_colab_link": true
    },
    "kernelspec": {
      "name": "python3",
      "display_name": "Python 3"
    },
    "language_info": {
      "name": "python"
    }
  },
  "cells": [
    {
      "cell_type": "markdown",
      "metadata": {
        "id": "view-in-github",
        "colab_type": "text"
      },
      "source": [
        "<a href=\"https://colab.research.google.com/github/sayanarajasekhar/GenerativeAiApplications/blob/main/simple_llm.ipynb\" target=\"_parent\"><img src=\"https://colab.research.google.com/assets/colab-badge.svg\" alt=\"Open In Colab\"/></a>"
      ]
    },
    {
      "cell_type": "markdown",
      "source": [
        "Let's start by generating text with LLMs.\n",
        "\n",
        "In case, you want to use Llama 3 as an LLM instance, you can follow the instructions below:\n",
        "\n",
        "> IBM WatsonX utilizes various language models, including Llama 3 by Meta, which is currently the strongest open-source language model.\n",
        "\n",
        "Here's how the code works:\n",
        "\n",
        "1. Setting up credentials: The credentials needed to access IBM's services are pre-arranged by the Skills Network team, so you don't have to worry about setting them up yourself.\n",
        "\n",
        "2. Specifying parameters: The code then defines specific parameters for the language model. 'MAX_NEW_TOKENS' sets the limit on the number of words the model can generate in one go. 'TEMPERATURE' adjusts how creative or predictable the generated text is.\n",
        "\n",
        "3. Setting up Llama 3 model: Next, the LLAMA3 model is set up using a model ID, the provided credentials, chosen parameters, and a project ID.\n",
        "\n",
        "4. Creating an object for Llama 3: The code creates an object named llm, which is used to interact with the Llama 3 model. A model object, LLAMA3_model, is created using the Model class, which is initialized with a specific model ID, credentials, parameters, and project ID. Then, an instance of WatsonxLLM is created with LLAMA3_model as an argument, initializing the language model hub llm object.\n",
        "\n",
        "5. Generating and printing response: Finally, 'llm' is used to generate a response to the question, \"How to read a book effectively?\" The response is then printed out.\n",
        "\n"
      ],
      "metadata": {
        "id": "7bpSZMbNFVF-"
      }
    },
    {
      "cell_type": "code",
      "execution_count": 1,
      "metadata": {
        "colab": {
          "base_uri": "https://localhost:8080/",
          "height": 393
        },
        "id": "shI8XasME_uV",
        "outputId": "e39abffd-24ca-4d25-efac-3386d0769dad"
      },
      "outputs": [
        {
          "output_type": "error",
          "ename": "ModuleNotFoundError",
          "evalue": "No module named 'ibm_watson_machine_learning'",
          "traceback": [
            "\u001b[0;31m---------------------------------------------------------------------------\u001b[0m",
            "\u001b[0;31mModuleNotFoundError\u001b[0m                       Traceback (most recent call last)",
            "\u001b[0;32m/tmp/ipython-input-2390810795.py\u001b[0m in \u001b[0;36m<cell line: 0>\u001b[0;34m()\u001b[0m\n\u001b[0;32m----> 1\u001b[0;31m \u001b[0;32mfrom\u001b[0m \u001b[0mibm_watson_machine_learning\u001b[0m\u001b[0;34m.\u001b[0m\u001b[0mfoundation_models\u001b[0m \u001b[0;32mimport\u001b[0m \u001b[0mModel\u001b[0m\u001b[0;34m\u001b[0m\u001b[0;34m\u001b[0m\u001b[0m\n\u001b[0m\u001b[1;32m      2\u001b[0m \u001b[0;32mfrom\u001b[0m \u001b[0mibm_watson_machine_learning\u001b[0m\u001b[0;34m.\u001b[0m\u001b[0mfoundation_models\u001b[0m\u001b[0;34m.\u001b[0m\u001b[0mextensions\u001b[0m\u001b[0;34m.\u001b[0m\u001b[0mlangchain\u001b[0m \u001b[0;32mimport\u001b[0m \u001b[0mWatsonxLLM\u001b[0m\u001b[0;34m\u001b[0m\u001b[0;34m\u001b[0m\u001b[0m\n\u001b[1;32m      3\u001b[0m \u001b[0;32mfrom\u001b[0m \u001b[0mibm_watson_machine_learning\u001b[0m\u001b[0;34m.\u001b[0m\u001b[0mmetanames\u001b[0m \u001b[0;32mimport\u001b[0m \u001b[0mGenTextParamsMetaNames\u001b[0m \u001b[0;32mas\u001b[0m \u001b[0mGenParams\u001b[0m\u001b[0;34m\u001b[0m\u001b[0;34m\u001b[0m\u001b[0m\n\u001b[1;32m      4\u001b[0m \u001b[0;34m\u001b[0m\u001b[0m\n\u001b[1;32m      5\u001b[0m my_credentials = {\n",
            "\u001b[0;31mModuleNotFoundError\u001b[0m: No module named 'ibm_watson_machine_learning'",
            "",
            "\u001b[0;31m---------------------------------------------------------------------------\u001b[0;32m\nNOTE: If your import is failing due to a missing package, you can\nmanually install dependencies using either !pip or !apt.\n\nTo view examples of installing some common dependencies, click the\n\"Open Examples\" button below.\n\u001b[0;31m---------------------------------------------------------------------------\u001b[0m\n"
          ],
          "errorDetails": {
            "actions": [
              {
                "action": "open_url",
                "actionText": "Open Examples",
                "url": "/notebooks/snippets/importing_libraries.ipynb"
              }
            ]
          }
        }
      ],
      "source": [
        "from ibm_watson_machine_learning.foundation_models import Model\n",
        "from ibm_watson_machine_learning.foundation_models.extensions.langchain import WatsonxLLM\n",
        "from ibm_watson_machine_learning.metanames import GenTextParamsMetaNames as GenParams\n",
        "\n",
        "my_credentials = {\n",
        "    \"url\"    : \"https://us-south.ml.cloud.ibm.com\"\n",
        "}\n",
        "\n",
        "params = {\n",
        "        GenParams.MAX_NEW_TOKENS: 700, # The maximum number of tokens that the model can generate in a single run.\n",
        "        GenParams.TEMPERATURE: 0.1,   # A parameter that controls the randomness of the token generation. A lower value makes the generation more deterministic, while a higher value introduces more randomness.\n",
        "    }\n",
        "\n",
        "LLAMA2_model = Model(\n",
        "        model_id= 'meta-llama/llama-3-2-11b-vision-instruct',\n",
        "        credentials=my_credentials,\n",
        "        params=params,\n",
        "        project_id=\"skills-network\",\n",
        "        )\n",
        "\n",
        "llm = WatsonxLLM(LLAMA2_model)\n",
        "\n",
        "print(llm(\"How to read a book effectively?\"))"
      ]
    },
    {
      "cell_type": "code",
      "source": [],
      "metadata": {
        "id": "5s12zl93Fl_L"
      },
      "execution_count": null,
      "outputs": []
    }
  ]
}