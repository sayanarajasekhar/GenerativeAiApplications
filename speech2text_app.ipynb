{
  "nbformat": 4,
  "nbformat_minor": 0,
  "metadata": {
    "colab": {
      "provenance": [],
      "authorship_tag": "ABX9TyNwmrVmNvfPUmSP19VVLq9E",
      "include_colab_link": true
    },
    "kernelspec": {
      "name": "python3",
      "display_name": "Python 3"
    },
    "language_info": {
      "name": "python"
    }
  },
  "cells": [
    {
      "cell_type": "markdown",
      "metadata": {
        "id": "view-in-github",
        "colab_type": "text"
      },
      "source": [
        "<a href=\"https://colab.research.google.com/github/sayanarajasekhar/GenerativeAiApplications/blob/main/speech2text_app.ipynb\" target=\"_parent\"><img src=\"https://colab.research.google.com/assets/colab-badge.svg\" alt=\"Open In Colab\"/></a>"
      ]
    },
    {
      "cell_type": "code",
      "execution_count": 1,
      "metadata": {
        "colab": {
          "base_uri": "https://localhost:8080/",
          "height": 628
        },
        "id": "jtgKs5rWGpBH",
        "outputId": "60750bc8-f34a-4f37-9ecd-51119887312b"
      },
      "outputs": [
        {
          "output_type": "stream",
          "name": "stdout",
          "text": [
            "It looks like you are running Gradio on a hosted Jupyter notebook, which requires `share=True`. Automatically setting `share=True` (you can turn this off by setting `share=False` in `launch()` explicitly).\n",
            "\n",
            "Colab notebook detected. To show errors in colab notebook, set debug=True in launch()\n",
            "* Running on public URL: https://abe59ddb50c5876a04.gradio.live\n",
            "\n",
            "This share link expires in 1 week. For free permanent hosting and GPU upgrades, run `gradio deploy` from the terminal in the working directory to deploy to Hugging Face Spaces (https://huggingface.co/spaces)\n"
          ]
        },
        {
          "output_type": "display_data",
          "data": {
            "text/plain": [
              "<IPython.core.display.HTML object>"
            ],
            "text/html": [
              "<div><iframe src=\"https://abe59ddb50c5876a04.gradio.live\" width=\"100%\" height=\"500\" allow=\"autoplay; camera; microphone; clipboard-read; clipboard-write;\" frameborder=\"0\" allowfullscreen></iframe></div>"
            ]
          },
          "metadata": {}
        },
        {
          "output_type": "execute_result",
          "data": {
            "text/plain": []
          },
          "metadata": {},
          "execution_count": 1
        }
      ],
      "source": [
        "import torch\n",
        "from transformers import pipeline\n",
        "import gradio as gr\n",
        "\n",
        "# Function to transcribe audio using the OpenAI Whisper model\n",
        "def transcript_audio(audio_file):\n",
        "    # Initialize the speech recognition pipeline\n",
        "    pipe = pipeline(\n",
        "        \"automatic-speech-recognition\",\n",
        "        model=\"openai/whisper-tiny.en\",\n",
        "        chunk_length_s=30\n",
        "    )\n",
        "\n",
        "    # Transcribe the audio file and return the result\n",
        "    result = pipe(audio_file, batch_size=8)[\"text\"]\n",
        "    return result\n",
        "\n",
        "# Set up Gradio interface\n",
        "audio_input = gr.Audio(sources=\"upload\", type=\"filepath\")  # Audio input\n",
        "output_text = gr.Textbox()  # Text output\n",
        "\n",
        "# Create the Gradio interface with the function, inputs, and outputs\n",
        "iface = gr.Interface(fn=transcript_audio,\n",
        "                     inputs=audio_input, outputs=output_text,\n",
        "                     title=\"Audio Transcription App\",\n",
        "                     description=\"Upload the audio file\")\n",
        "\n",
        "# Launch the Gradio app\n",
        "iface.launch(server_name=\"0.0.0.0\", server_port=7860)"
      ]
    },
    {
      "cell_type": "code",
      "source": [],
      "metadata": {
        "id": "N4EGtEnzGzEe"
      },
      "execution_count": null,
      "outputs": []
    }
  ]
}