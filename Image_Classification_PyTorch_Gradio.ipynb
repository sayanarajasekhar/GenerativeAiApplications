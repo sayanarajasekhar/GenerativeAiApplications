{
  "nbformat": 4,
  "nbformat_minor": 0,
  "metadata": {
    "colab": {
      "provenance": [],
      "authorship_tag": "ABX9TyNkYF7VB1gIToxhKqdf+szJ",
      "include_colab_link": true
    },
    "kernelspec": {
      "name": "python3",
      "display_name": "Python 3"
    },
    "language_info": {
      "name": "python"
    }
  },
  "cells": [
    {
      "cell_type": "markdown",
      "metadata": {
        "id": "view-in-github",
        "colab_type": "text"
      },
      "source": [
        "<a href=\"https://colab.research.google.com/github/sayanarajasekhar/GenerativeAiApplications/blob/main/Image_Classification_PyTorch_Gradio.ipynb\" target=\"_parent\"><img src=\"https://colab.research.google.com/assets/colab-badge.svg\" alt=\"Open In Colab\"/></a>"
      ]
    },
    {
      "cell_type": "markdown",
      "source": [
        "## 1. Image Classification\n",
        "\n",
        " Image classification is a central task in computer vision. Building better classifiers to classify what object is present in a picture is an active area of research, as it has applications stretching from autonomous vehicles to medical imaging"
      ],
      "metadata": {
        "id": "iaFHtItmSVxr"
      }
    },
    {
      "cell_type": "markdown",
      "source": [
        "### Step 1: Setting up the image classification model"
      ],
      "metadata": {
        "id": "sspCr0bGSgsp"
      }
    },
    {
      "cell_type": "code",
      "execution_count": 2,
      "metadata": {
        "colab": {
          "base_uri": "https://localhost:8080/"
        },
        "id": "wbbgzLEsSVE1",
        "outputId": "7f18328a-2c34-4e0b-c5d1-a6ca4facc8da"
      },
      "outputs": [
        {
          "output_type": "stream",
          "name": "stdout",
          "text": [
            "Downloading: \"https://github.com/pytorch/vision/zipball/v0.6.0\" to /root/.cache/torch/hub/v0.6.0.zip\n",
            "Downloading: \"https://download.pytorch.org/models/resnet18-5c106cde.pth\" to /root/.cache/torch/hub/checkpoints/resnet18-5c106cde.pth\n"
          ]
        },
        {
          "output_type": "stream",
          "name": "stderr",
          "text": [
            "100%|██████████| 44.7M/44.7M [00:00<00:00, 154MB/s]\n"
          ]
        }
      ],
      "source": [
        "import torch\n",
        "\n",
        "model = torch.hub.load('pytorch/vision:v0.6.0', 'resnet18', pretrained = True).eval()"
      ]
    },
    {
      "cell_type": "markdown",
      "source": [
        "### Step 2: Defining a predict function\n",
        "\n",
        "We will need to define a function that takes in the user input, which in this case is an image, and returns the prediction. The prediction should be returned as a dictionary whose keys are class name and values are confidence probabilities. We will load the class names from this text file.\n",
        "\n"
      ],
      "metadata": {
        "id": "gYLbz7RQTFNr"
      }
    },
    {
      "cell_type": "code",
      "source": [
        "import requests\n",
        "from PIL import Image\n",
        "from torchvision import transforms\n",
        "\n",
        "# Download human-readable labels for ImageNet\n",
        "response = requests.get(\"https://git.io/JJkYN\")\n",
        "labels = response.text.split('\\n')\n",
        "\n",
        "def predict(image):\n",
        "  '''\n",
        "    input image as PIL image\n",
        "  '''\n",
        "  input = transforms.ToTensor()(image).unsqueeze(0)\n",
        "  with torch.inference_mode():\n",
        "    predictions = torch.nn.functional.softmax(model(input)[0], dim = 0)\n",
        "    confidences = { labels[i]: float(predictions[i]) for i in range(1000)}\n",
        "  return confidences"
      ],
      "metadata": {
        "id": "ipp0STgDTB_2"
      },
      "execution_count": null,
      "outputs": []
    },
    {
      "cell_type": "markdown",
      "source": [
        "### Step 3: Creating a Gradio interface\n",
        "\n",
        "\n",
        "Now that we have our predictive function set up, we can create a Gradio Interface around it.\n",
        "\n",
        "In this case, the input component is a drag-and-drop image component. To create this input, we use `Image(type=“pil”)` which creates the component and handles the preprocessing to convert that to a PIL image.\n",
        "\n",
        "The output component will be a Label, which displays the top labels in a nice form. Since we don't want to show all 1,000 class labels, we will customize it to show only the top 3 classes by constructing it as `Label(num_top_classes=3)`."
      ],
      "metadata": {
        "id": "WT3jW1NwUS4l"
      }
    },
    {
      "cell_type": "code",
      "source": [
        "import gradio as gr\n",
        "\n",
        "gr.Interface(\n",
        "    fn = predict,\n",
        "    inputs = gr.Image(type = 'pil'),\n",
        "    outputs = gr.Label(num_top_classes = 3),\n",
        "    examples=[\"/content/lion.jpg\", \"/content/cheetah.jpg\"]\n",
        "  ).launch()\n"
      ],
      "metadata": {
        "id": "35FcyhbNUY8U"
      },
      "execution_count": null,
      "outputs": []
    }
  ]
}